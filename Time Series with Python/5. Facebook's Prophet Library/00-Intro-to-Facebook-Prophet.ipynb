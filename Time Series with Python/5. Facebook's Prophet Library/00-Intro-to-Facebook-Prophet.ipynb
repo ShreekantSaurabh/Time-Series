{
 "cells": [
  {
   "cell_type": "markdown",
   "metadata": {},
   "source": [
    "# Quick Guide to Facebook's Prophet Basics\n",
    "---\n",
    "---\n",
    "\n",
    "## IMPORTANT NOTE ONE:\n",
    "\n",
    "**Please read the papaer for Prophet! It is relatively straightforward and has a lot of insight on their techniques on how Prophet works internally!**\n",
    "\n",
    "Link to paper: https://peerj.com/preprints/3190.pdf\n",
    "---\n",
    "---\n",
    "\n",
    "## IMPORTANT NOTE TWO:\n",
    "\n",
    "-----\n",
    "------\n",
    "\n",
    "* **NOTE: Link to installation instructions:** \n",
    "    * https://facebook.github.io/prophet/docs/installation.html#python \n",
    "    * SCROLL DOWN UNTIL YOU SEE THE ANACONDA OPTION AT THE BOTTOM OF THE PAGE.\n",
    "    * YOU MAY NEED TO INSTALL BOTH **conda install gcc** and **conda install -c conda-forge fbprophet**\n",
    "    * PLEASE READ THROUGH THE DOCS AND STACKOERFLOW CAREFULLY BEFORE POSTING INSTALLATION ISSUES TO THE QA FORUMS.\n",
    "\n",
    "-----\n",
    "----"
   ]
  },
  {
   "cell_type": "markdown",
   "metadata": {},
   "source": [
    "## Load Libraries"
   ]
  },
  {
   "cell_type": "code",
   "execution_count": 1,
   "metadata": {},
   "outputs": [],
   "source": [
    "import pandas as pd\n",
    "from fbprophet import Prophet"
   ]
  },
  {
   "cell_type": "code",
   "execution_count": 2,
   "metadata": {},
   "outputs": [],
   "source": [
    "#Prophet deregisters the Pandas converters in its code.\n",
    "#Please check https://darektidwell.com/typeerror-float-argument-must-be-a-string-or-a-number-not-period-facebook-prophet-and-pandas/\n",
    "pd.plotting.register_matplotlib_converters()"
   ]
  },
  {
   "cell_type": "markdown",
   "metadata": {},
   "source": [
    "## Load Data\n",
    "\n",
    "The input to Prophet is mandatorily a dataframe with two columns: ds and y. The ds (datestamp) column should be of a format expected by Pandas, ideally YYYY-MM-DD for a date or YYYY-MM-DD HH:MM:SS for a timestamp. The y column must be numeric, and represents the measurement we wish to forecast."
   ]
  },
  {
   "cell_type": "code",
   "execution_count": 3,
   "metadata": {},
   "outputs": [],
   "source": [
    "df = pd.read_csv('BeerWineLiquor.csv')"
   ]
  },
  {
   "cell_type": "code",
   "execution_count": 4,
   "metadata": {},
   "outputs": [
    {
     "data": {
      "text/html": [
       "<div>\n",
       "<style scoped>\n",
       "    .dataframe tbody tr th:only-of-type {\n",
       "        vertical-align: middle;\n",
       "    }\n",
       "\n",
       "    .dataframe tbody tr th {\n",
       "        vertical-align: top;\n",
       "    }\n",
       "\n",
       "    .dataframe thead th {\n",
       "        text-align: right;\n",
       "    }\n",
       "</style>\n",
       "<table border=\"1\" class=\"dataframe\">\n",
       "  <thead>\n",
       "    <tr style=\"text-align: right;\">\n",
       "      <th></th>\n",
       "      <th>date</th>\n",
       "      <th>beer</th>\n",
       "    </tr>\n",
       "  </thead>\n",
       "  <tbody>\n",
       "    <tr>\n",
       "      <th>0</th>\n",
       "      <td>1/1/1992</td>\n",
       "      <td>1509</td>\n",
       "    </tr>\n",
       "    <tr>\n",
       "      <th>1</th>\n",
       "      <td>2/1/1992</td>\n",
       "      <td>1541</td>\n",
       "    </tr>\n",
       "    <tr>\n",
       "      <th>2</th>\n",
       "      <td>3/1/1992</td>\n",
       "      <td>1597</td>\n",
       "    </tr>\n",
       "    <tr>\n",
       "      <th>3</th>\n",
       "      <td>4/1/1992</td>\n",
       "      <td>1675</td>\n",
       "    </tr>\n",
       "    <tr>\n",
       "      <th>4</th>\n",
       "      <td>5/1/1992</td>\n",
       "      <td>1822</td>\n",
       "    </tr>\n",
       "  </tbody>\n",
       "</table>\n",
       "</div>"
      ],
      "text/plain": [
       "       date  beer\n",
       "0  1/1/1992  1509\n",
       "1  2/1/1992  1541\n",
       "2  3/1/1992  1597\n",
       "3  4/1/1992  1675\n",
       "4  5/1/1992  1822"
      ]
     },
     "execution_count": 4,
     "metadata": {},
     "output_type": "execute_result"
    }
   ],
   "source": [
    "df.head()"
   ]
  },
  {
   "cell_type": "markdown",
   "metadata": {},
   "source": [
    "### Format the Data"
   ]
  },
  {
   "cell_type": "code",
   "execution_count": 5,
   "metadata": {},
   "outputs": [],
   "source": [
    "df.columns = ['ds','y']"
   ]
  },
  {
   "cell_type": "code",
   "execution_count": 6,
   "metadata": {},
   "outputs": [
    {
     "data": {
      "text/html": [
       "<div>\n",
       "<style scoped>\n",
       "    .dataframe tbody tr th:only-of-type {\n",
       "        vertical-align: middle;\n",
       "    }\n",
       "\n",
       "    .dataframe tbody tr th {\n",
       "        vertical-align: top;\n",
       "    }\n",
       "\n",
       "    .dataframe thead th {\n",
       "        text-align: right;\n",
       "    }\n",
       "</style>\n",
       "<table border=\"1\" class=\"dataframe\">\n",
       "  <thead>\n",
       "    <tr style=\"text-align: right;\">\n",
       "      <th></th>\n",
       "      <th>ds</th>\n",
       "      <th>y</th>\n",
       "    </tr>\n",
       "  </thead>\n",
       "  <tbody>\n",
       "    <tr>\n",
       "      <th>0</th>\n",
       "      <td>1/1/1992</td>\n",
       "      <td>1509</td>\n",
       "    </tr>\n",
       "    <tr>\n",
       "      <th>1</th>\n",
       "      <td>2/1/1992</td>\n",
       "      <td>1541</td>\n",
       "    </tr>\n",
       "    <tr>\n",
       "      <th>2</th>\n",
       "      <td>3/1/1992</td>\n",
       "      <td>1597</td>\n",
       "    </tr>\n",
       "    <tr>\n",
       "      <th>3</th>\n",
       "      <td>4/1/1992</td>\n",
       "      <td>1675</td>\n",
       "    </tr>\n",
       "    <tr>\n",
       "      <th>4</th>\n",
       "      <td>5/1/1992</td>\n",
       "      <td>1822</td>\n",
       "    </tr>\n",
       "  </tbody>\n",
       "</table>\n",
       "</div>"
      ],
      "text/plain": [
       "         ds     y\n",
       "0  1/1/1992  1509\n",
       "1  2/1/1992  1541\n",
       "2  3/1/1992  1597\n",
       "3  4/1/1992  1675\n",
       "4  5/1/1992  1822"
      ]
     },
     "execution_count": 6,
     "metadata": {},
     "output_type": "execute_result"
    }
   ],
   "source": [
    "df.head()"
   ]
  },
  {
   "cell_type": "code",
   "execution_count": 7,
   "metadata": {},
   "outputs": [],
   "source": [
    "df['ds'] = pd.to_datetime(df['ds'])"
   ]
  },
  {
   "cell_type": "code",
   "execution_count": 8,
   "metadata": {},
   "outputs": [
    {
     "data": {
      "text/html": [
       "<div>\n",
       "<style scoped>\n",
       "    .dataframe tbody tr th:only-of-type {\n",
       "        vertical-align: middle;\n",
       "    }\n",
       "\n",
       "    .dataframe tbody tr th {\n",
       "        vertical-align: top;\n",
       "    }\n",
       "\n",
       "    .dataframe thead th {\n",
       "        text-align: right;\n",
       "    }\n",
       "</style>\n",
       "<table border=\"1\" class=\"dataframe\">\n",
       "  <thead>\n",
       "    <tr style=\"text-align: right;\">\n",
       "      <th></th>\n",
       "      <th>ds</th>\n",
       "      <th>y</th>\n",
       "    </tr>\n",
       "  </thead>\n",
       "  <tbody>\n",
       "    <tr>\n",
       "      <th>0</th>\n",
       "      <td>1992-01-01</td>\n",
       "      <td>1509</td>\n",
       "    </tr>\n",
       "    <tr>\n",
       "      <th>1</th>\n",
       "      <td>1992-02-01</td>\n",
       "      <td>1541</td>\n",
       "    </tr>\n",
       "    <tr>\n",
       "      <th>2</th>\n",
       "      <td>1992-03-01</td>\n",
       "      <td>1597</td>\n",
       "    </tr>\n",
       "    <tr>\n",
       "      <th>3</th>\n",
       "      <td>1992-04-01</td>\n",
       "      <td>1675</td>\n",
       "    </tr>\n",
       "    <tr>\n",
       "      <th>4</th>\n",
       "      <td>1992-05-01</td>\n",
       "      <td>1822</td>\n",
       "    </tr>\n",
       "  </tbody>\n",
       "</table>\n",
       "</div>"
      ],
      "text/plain": [
       "          ds     y\n",
       "0 1992-01-01  1509\n",
       "1 1992-02-01  1541\n",
       "2 1992-03-01  1597\n",
       "3 1992-04-01  1675\n",
       "4 1992-05-01  1822"
      ]
     },
     "execution_count": 8,
     "metadata": {},
     "output_type": "execute_result"
    }
   ],
   "source": [
    "df.head()"
   ]
  },
  {
   "cell_type": "code",
   "execution_count": 9,
   "metadata": {},
   "outputs": [
    {
     "name": "stdout",
     "output_type": "stream",
     "text": [
      "<class 'pandas.core.frame.DataFrame'>\n",
      "RangeIndex: 324 entries, 0 to 323\n",
      "Data columns (total 2 columns):\n",
      "ds    324 non-null datetime64[ns]\n",
      "y     324 non-null int64\n",
      "dtypes: datetime64[ns](1), int64(1)\n",
      "memory usage: 5.1 KB\n"
     ]
    }
   ],
   "source": [
    "df.info()"
   ]
  },
  {
   "cell_type": "markdown",
   "metadata": {},
   "source": [
    "## Create and Fit Model"
   ]
  },
  {
   "cell_type": "code",
   "execution_count": 10,
   "metadata": {},
   "outputs": [
    {
     "name": "stderr",
     "output_type": "stream",
     "text": [
      "INFO:fbprophet:Disabling weekly seasonality. Run prophet with weekly_seasonality=True to override this.\n",
      "INFO:fbprophet:Disabling daily seasonality. Run prophet with daily_seasonality=True to override this.\n",
      "C:\\Users\\saurabhs\\AppData\\Local\\Continuum\\anaconda3\\lib\\site-packages\\pystan\\misc.py:399: FutureWarning:\n",
      "\n",
      "Conversion of the second argument of issubdtype from `float` to `np.floating` is deprecated. In future, it will be treated as `np.float64 == np.dtype(float).type`.\n",
      "\n"
     ]
    },
    {
     "data": {
      "text/plain": [
       "<fbprophet.forecaster.Prophet at 0x1c04cd306a0>"
      ]
     },
     "execution_count": 10,
     "metadata": {},
     "output_type": "execute_result"
    }
   ],
   "source": [
    "# This is fitting on all the data (no train test split in this example)\n",
    "m = Prophet()\n",
    "m.fit(df)"
   ]
  },
  {
   "cell_type": "markdown",
   "metadata": {},
   "source": [
    "## Forecasting\n",
    "\n",
    "### Step 1: Create \"future\" placeholder dataframe\n",
    "\n",
    "**NOTE: Prophet by default is for daily data. You need to pass a frequency for sub-daily or monthly data. Info: https://facebook.github.io/prophet/docs/non-daily_data.html**"
   ]
  },
  {
   "cell_type": "code",
   "execution_count": 11,
   "metadata": {},
   "outputs": [],
   "source": [
    "future = m.make_future_dataframe(periods=24,freq = 'MS')"
   ]
  },
  {
   "cell_type": "code",
   "execution_count": 12,
   "metadata": {},
   "outputs": [
    {
     "data": {
      "text/html": [
       "<div>\n",
       "<style scoped>\n",
       "    .dataframe tbody tr th:only-of-type {\n",
       "        vertical-align: middle;\n",
       "    }\n",
       "\n",
       "    .dataframe tbody tr th {\n",
       "        vertical-align: top;\n",
       "    }\n",
       "\n",
       "    .dataframe thead th {\n",
       "        text-align: right;\n",
       "    }\n",
       "</style>\n",
       "<table border=\"1\" class=\"dataframe\">\n",
       "  <thead>\n",
       "    <tr style=\"text-align: right;\">\n",
       "      <th></th>\n",
       "      <th>ds</th>\n",
       "      <th>y</th>\n",
       "    </tr>\n",
       "  </thead>\n",
       "  <tbody>\n",
       "    <tr>\n",
       "      <th>319</th>\n",
       "      <td>2018-08-01</td>\n",
       "      <td>4898</td>\n",
       "    </tr>\n",
       "    <tr>\n",
       "      <th>320</th>\n",
       "      <td>2018-09-01</td>\n",
       "      <td>4598</td>\n",
       "    </tr>\n",
       "    <tr>\n",
       "      <th>321</th>\n",
       "      <td>2018-10-01</td>\n",
       "      <td>4737</td>\n",
       "    </tr>\n",
       "    <tr>\n",
       "      <th>322</th>\n",
       "      <td>2018-11-01</td>\n",
       "      <td>5130</td>\n",
       "    </tr>\n",
       "    <tr>\n",
       "      <th>323</th>\n",
       "      <td>2018-12-01</td>\n",
       "      <td>6370</td>\n",
       "    </tr>\n",
       "  </tbody>\n",
       "</table>\n",
       "</div>"
      ],
      "text/plain": [
       "            ds     y\n",
       "319 2018-08-01  4898\n",
       "320 2018-09-01  4598\n",
       "321 2018-10-01  4737\n",
       "322 2018-11-01  5130\n",
       "323 2018-12-01  6370"
      ]
     },
     "execution_count": 12,
     "metadata": {},
     "output_type": "execute_result"
    }
   ],
   "source": [
    "df.tail()"
   ]
  },
  {
   "cell_type": "code",
   "execution_count": 13,
   "metadata": {},
   "outputs": [
    {
     "data": {
      "text/html": [
       "<div>\n",
       "<style scoped>\n",
       "    .dataframe tbody tr th:only-of-type {\n",
       "        vertical-align: middle;\n",
       "    }\n",
       "\n",
       "    .dataframe tbody tr th {\n",
       "        vertical-align: top;\n",
       "    }\n",
       "\n",
       "    .dataframe thead th {\n",
       "        text-align: right;\n",
       "    }\n",
       "</style>\n",
       "<table border=\"1\" class=\"dataframe\">\n",
       "  <thead>\n",
       "    <tr style=\"text-align: right;\">\n",
       "      <th></th>\n",
       "      <th>ds</th>\n",
       "    </tr>\n",
       "  </thead>\n",
       "  <tbody>\n",
       "    <tr>\n",
       "      <th>324</th>\n",
       "      <td>2019-01-01</td>\n",
       "    </tr>\n",
       "    <tr>\n",
       "      <th>325</th>\n",
       "      <td>2019-02-01</td>\n",
       "    </tr>\n",
       "    <tr>\n",
       "      <th>326</th>\n",
       "      <td>2019-03-01</td>\n",
       "    </tr>\n",
       "    <tr>\n",
       "      <th>327</th>\n",
       "      <td>2019-04-01</td>\n",
       "    </tr>\n",
       "    <tr>\n",
       "      <th>328</th>\n",
       "      <td>2019-05-01</td>\n",
       "    </tr>\n",
       "    <tr>\n",
       "      <th>329</th>\n",
       "      <td>2019-06-01</td>\n",
       "    </tr>\n",
       "    <tr>\n",
       "      <th>330</th>\n",
       "      <td>2019-07-01</td>\n",
       "    </tr>\n",
       "    <tr>\n",
       "      <th>331</th>\n",
       "      <td>2019-08-01</td>\n",
       "    </tr>\n",
       "    <tr>\n",
       "      <th>332</th>\n",
       "      <td>2019-09-01</td>\n",
       "    </tr>\n",
       "    <tr>\n",
       "      <th>333</th>\n",
       "      <td>2019-10-01</td>\n",
       "    </tr>\n",
       "    <tr>\n",
       "      <th>334</th>\n",
       "      <td>2019-11-01</td>\n",
       "    </tr>\n",
       "    <tr>\n",
       "      <th>335</th>\n",
       "      <td>2019-12-01</td>\n",
       "    </tr>\n",
       "    <tr>\n",
       "      <th>336</th>\n",
       "      <td>2020-01-01</td>\n",
       "    </tr>\n",
       "    <tr>\n",
       "      <th>337</th>\n",
       "      <td>2020-02-01</td>\n",
       "    </tr>\n",
       "    <tr>\n",
       "      <th>338</th>\n",
       "      <td>2020-03-01</td>\n",
       "    </tr>\n",
       "    <tr>\n",
       "      <th>339</th>\n",
       "      <td>2020-04-01</td>\n",
       "    </tr>\n",
       "    <tr>\n",
       "      <th>340</th>\n",
       "      <td>2020-05-01</td>\n",
       "    </tr>\n",
       "    <tr>\n",
       "      <th>341</th>\n",
       "      <td>2020-06-01</td>\n",
       "    </tr>\n",
       "    <tr>\n",
       "      <th>342</th>\n",
       "      <td>2020-07-01</td>\n",
       "    </tr>\n",
       "    <tr>\n",
       "      <th>343</th>\n",
       "      <td>2020-08-01</td>\n",
       "    </tr>\n",
       "    <tr>\n",
       "      <th>344</th>\n",
       "      <td>2020-09-01</td>\n",
       "    </tr>\n",
       "    <tr>\n",
       "      <th>345</th>\n",
       "      <td>2020-10-01</td>\n",
       "    </tr>\n",
       "    <tr>\n",
       "      <th>346</th>\n",
       "      <td>2020-11-01</td>\n",
       "    </tr>\n",
       "    <tr>\n",
       "      <th>347</th>\n",
       "      <td>2020-12-01</td>\n",
       "    </tr>\n",
       "  </tbody>\n",
       "</table>\n",
       "</div>"
      ],
      "text/plain": [
       "            ds\n",
       "324 2019-01-01\n",
       "325 2019-02-01\n",
       "326 2019-03-01\n",
       "327 2019-04-01\n",
       "328 2019-05-01\n",
       "329 2019-06-01\n",
       "330 2019-07-01\n",
       "331 2019-08-01\n",
       "332 2019-09-01\n",
       "333 2019-10-01\n",
       "334 2019-11-01\n",
       "335 2019-12-01\n",
       "336 2020-01-01\n",
       "337 2020-02-01\n",
       "338 2020-03-01\n",
       "339 2020-04-01\n",
       "340 2020-05-01\n",
       "341 2020-06-01\n",
       "342 2020-07-01\n",
       "343 2020-08-01\n",
       "344 2020-09-01\n",
       "345 2020-10-01\n",
       "346 2020-11-01\n",
       "347 2020-12-01"
      ]
     },
     "execution_count": 13,
     "metadata": {},
     "output_type": "execute_result"
    }
   ],
   "source": [
    "future.tail(24)"
   ]
  },
  {
   "cell_type": "code",
   "execution_count": 14,
   "metadata": {},
   "outputs": [
    {
     "data": {
      "text/plain": [
       "324"
      ]
     },
     "execution_count": 14,
     "metadata": {},
     "output_type": "execute_result"
    }
   ],
   "source": [
    "len(df)"
   ]
  },
  {
   "cell_type": "code",
   "execution_count": 15,
   "metadata": {},
   "outputs": [
    {
     "data": {
      "text/plain": [
       "348"
      ]
     },
     "execution_count": 15,
     "metadata": {},
     "output_type": "execute_result"
    }
   ],
   "source": [
    "len(future)"
   ]
  },
  {
   "cell_type": "markdown",
   "metadata": {},
   "source": [
    "\n",
    "### Step 2: Predict and fill in the Future"
   ]
  },
  {
   "cell_type": "code",
   "execution_count": 16,
   "metadata": {},
   "outputs": [],
   "source": [
    "forecast = m.predict(future)"
   ]
  },
  {
   "cell_type": "code",
   "execution_count": 17,
   "metadata": {},
   "outputs": [
    {
     "data": {
      "text/html": [
       "<div>\n",
       "<style scoped>\n",
       "    .dataframe tbody tr th:only-of-type {\n",
       "        vertical-align: middle;\n",
       "    }\n",
       "\n",
       "    .dataframe tbody tr th {\n",
       "        vertical-align: top;\n",
       "    }\n",
       "\n",
       "    .dataframe thead th {\n",
       "        text-align: right;\n",
       "    }\n",
       "</style>\n",
       "<table border=\"1\" class=\"dataframe\">\n",
       "  <thead>\n",
       "    <tr style=\"text-align: right;\">\n",
       "      <th></th>\n",
       "      <th>ds</th>\n",
       "      <th>trend</th>\n",
       "      <th>yhat_lower</th>\n",
       "      <th>yhat_upper</th>\n",
       "      <th>trend_lower</th>\n",
       "      <th>trend_upper</th>\n",
       "      <th>additive_terms</th>\n",
       "      <th>additive_terms_lower</th>\n",
       "      <th>additive_terms_upper</th>\n",
       "      <th>yearly</th>\n",
       "      <th>yearly_lower</th>\n",
       "      <th>yearly_upper</th>\n",
       "      <th>multiplicative_terms</th>\n",
       "      <th>multiplicative_terms_lower</th>\n",
       "      <th>multiplicative_terms_upper</th>\n",
       "      <th>yhat</th>\n",
       "    </tr>\n",
       "  </thead>\n",
       "  <tbody>\n",
       "    <tr>\n",
       "      <th>0</th>\n",
       "      <td>1992-01-01</td>\n",
       "      <td>1778.389678</td>\n",
       "      <td>1134.908951</td>\n",
       "      <td>1465.896081</td>\n",
       "      <td>1778.389678</td>\n",
       "      <td>1778.389678</td>\n",
       "      <td>-461.901459</td>\n",
       "      <td>-461.901459</td>\n",
       "      <td>-461.901459</td>\n",
       "      <td>-461.901459</td>\n",
       "      <td>-461.901459</td>\n",
       "      <td>-461.901459</td>\n",
       "      <td>0.0</td>\n",
       "      <td>0.0</td>\n",
       "      <td>0.0</td>\n",
       "      <td>1316.488218</td>\n",
       "    </tr>\n",
       "    <tr>\n",
       "      <th>1</th>\n",
       "      <td>1992-02-01</td>\n",
       "      <td>1780.987184</td>\n",
       "      <td>1170.093185</td>\n",
       "      <td>1507.026199</td>\n",
       "      <td>1780.987184</td>\n",
       "      <td>1780.987184</td>\n",
       "      <td>-427.924955</td>\n",
       "      <td>-427.924955</td>\n",
       "      <td>-427.924955</td>\n",
       "      <td>-427.924955</td>\n",
       "      <td>-427.924955</td>\n",
       "      <td>-427.924955</td>\n",
       "      <td>0.0</td>\n",
       "      <td>0.0</td>\n",
       "      <td>0.0</td>\n",
       "      <td>1353.062229</td>\n",
       "    </tr>\n",
       "    <tr>\n",
       "      <th>2</th>\n",
       "      <td>1992-03-01</td>\n",
       "      <td>1783.417109</td>\n",
       "      <td>1436.540910</td>\n",
       "      <td>1754.670114</td>\n",
       "      <td>1783.417109</td>\n",
       "      <td>1783.417109</td>\n",
       "      <td>-179.677739</td>\n",
       "      <td>-179.677739</td>\n",
       "      <td>-179.677739</td>\n",
       "      <td>-179.677739</td>\n",
       "      <td>-179.677739</td>\n",
       "      <td>-179.677739</td>\n",
       "      <td>0.0</td>\n",
       "      <td>0.0</td>\n",
       "      <td>0.0</td>\n",
       "      <td>1603.739371</td>\n",
       "    </tr>\n",
       "    <tr>\n",
       "      <th>3</th>\n",
       "      <td>1992-04-01</td>\n",
       "      <td>1786.014616</td>\n",
       "      <td>1412.159905</td>\n",
       "      <td>1750.332659</td>\n",
       "      <td>1786.014616</td>\n",
       "      <td>1786.014616</td>\n",
       "      <td>-196.091481</td>\n",
       "      <td>-196.091481</td>\n",
       "      <td>-196.091481</td>\n",
       "      <td>-196.091481</td>\n",
       "      <td>-196.091481</td>\n",
       "      <td>-196.091481</td>\n",
       "      <td>0.0</td>\n",
       "      <td>0.0</td>\n",
       "      <td>0.0</td>\n",
       "      <td>1589.923135</td>\n",
       "    </tr>\n",
       "    <tr>\n",
       "      <th>4</th>\n",
       "      <td>1992-05-01</td>\n",
       "      <td>1788.528331</td>\n",
       "      <td>1671.330901</td>\n",
       "      <td>2005.520814</td>\n",
       "      <td>1788.528331</td>\n",
       "      <td>1788.528331</td>\n",
       "      <td>45.713009</td>\n",
       "      <td>45.713009</td>\n",
       "      <td>45.713009</td>\n",
       "      <td>45.713009</td>\n",
       "      <td>45.713009</td>\n",
       "      <td>45.713009</td>\n",
       "      <td>0.0</td>\n",
       "      <td>0.0</td>\n",
       "      <td>0.0</td>\n",
       "      <td>1834.241340</td>\n",
       "    </tr>\n",
       "  </tbody>\n",
       "</table>\n",
       "</div>"
      ],
      "text/plain": [
       "          ds        trend   yhat_lower   yhat_upper  trend_lower  trend_upper  \\\n",
       "0 1992-01-01  1778.389678  1134.908951  1465.896081  1778.389678  1778.389678   \n",
       "1 1992-02-01  1780.987184  1170.093185  1507.026199  1780.987184  1780.987184   \n",
       "2 1992-03-01  1783.417109  1436.540910  1754.670114  1783.417109  1783.417109   \n",
       "3 1992-04-01  1786.014616  1412.159905  1750.332659  1786.014616  1786.014616   \n",
       "4 1992-05-01  1788.528331  1671.330901  2005.520814  1788.528331  1788.528331   \n",
       "\n",
       "   additive_terms  additive_terms_lower  additive_terms_upper      yearly  \\\n",
       "0     -461.901459           -461.901459           -461.901459 -461.901459   \n",
       "1     -427.924955           -427.924955           -427.924955 -427.924955   \n",
       "2     -179.677739           -179.677739           -179.677739 -179.677739   \n",
       "3     -196.091481           -196.091481           -196.091481 -196.091481   \n",
       "4       45.713009             45.713009             45.713009   45.713009   \n",
       "\n",
       "   yearly_lower  yearly_upper  multiplicative_terms  \\\n",
       "0   -461.901459   -461.901459                   0.0   \n",
       "1   -427.924955   -427.924955                   0.0   \n",
       "2   -179.677739   -179.677739                   0.0   \n",
       "3   -196.091481   -196.091481                   0.0   \n",
       "4     45.713009     45.713009                   0.0   \n",
       "\n",
       "   multiplicative_terms_lower  multiplicative_terms_upper         yhat  \n",
       "0                         0.0                         0.0  1316.488218  \n",
       "1                         0.0                         0.0  1353.062229  \n",
       "2                         0.0                         0.0  1603.739371  \n",
       "3                         0.0                         0.0  1589.923135  \n",
       "4                         0.0                         0.0  1834.241340  "
      ]
     },
     "execution_count": 17,
     "metadata": {},
     "output_type": "execute_result"
    }
   ],
   "source": [
    "forecast.head()"
   ]
  },
  {
   "cell_type": "code",
   "execution_count": 18,
   "metadata": {},
   "outputs": [
    {
     "data": {
      "text/html": [
       "<div>\n",
       "<style scoped>\n",
       "    .dataframe tbody tr th:only-of-type {\n",
       "        vertical-align: middle;\n",
       "    }\n",
       "\n",
       "    .dataframe tbody tr th {\n",
       "        vertical-align: top;\n",
       "    }\n",
       "\n",
       "    .dataframe thead th {\n",
       "        text-align: right;\n",
       "    }\n",
       "</style>\n",
       "<table border=\"1\" class=\"dataframe\">\n",
       "  <thead>\n",
       "    <tr style=\"text-align: right;\">\n",
       "      <th></th>\n",
       "      <th>ds</th>\n",
       "      <th>trend</th>\n",
       "      <th>yhat_lower</th>\n",
       "      <th>yhat_upper</th>\n",
       "      <th>trend_lower</th>\n",
       "      <th>trend_upper</th>\n",
       "      <th>additive_terms</th>\n",
       "      <th>additive_terms_lower</th>\n",
       "      <th>additive_terms_upper</th>\n",
       "      <th>yearly</th>\n",
       "      <th>yearly_lower</th>\n",
       "      <th>yearly_upper</th>\n",
       "      <th>multiplicative_terms</th>\n",
       "      <th>multiplicative_terms_lower</th>\n",
       "      <th>multiplicative_terms_upper</th>\n",
       "      <th>yhat</th>\n",
       "    </tr>\n",
       "  </thead>\n",
       "  <tbody>\n",
       "    <tr>\n",
       "      <th>343</th>\n",
       "      <td>2020-08-01</td>\n",
       "      <td>5204.920380</td>\n",
       "      <td>5078.922469</td>\n",
       "      <td>5393.627570</td>\n",
       "      <td>5193.298316</td>\n",
       "      <td>5217.345944</td>\n",
       "      <td>40.765082</td>\n",
       "      <td>40.765082</td>\n",
       "      <td>40.765082</td>\n",
       "      <td>40.765082</td>\n",
       "      <td>40.765082</td>\n",
       "      <td>40.765082</td>\n",
       "      <td>0.0</td>\n",
       "      <td>0.0</td>\n",
       "      <td>0.0</td>\n",
       "      <td>5245.685462</td>\n",
       "    </tr>\n",
       "    <tr>\n",
       "      <th>344</th>\n",
       "      <td>2020-09-01</td>\n",
       "      <td>5221.075787</td>\n",
       "      <td>4932.467403</td>\n",
       "      <td>5267.605416</td>\n",
       "      <td>5208.520773</td>\n",
       "      <td>5234.493750</td>\n",
       "      <td>-132.510619</td>\n",
       "      <td>-132.510619</td>\n",
       "      <td>-132.510619</td>\n",
       "      <td>-132.510619</td>\n",
       "      <td>-132.510619</td>\n",
       "      <td>-132.510619</td>\n",
       "      <td>0.0</td>\n",
       "      <td>0.0</td>\n",
       "      <td>0.0</td>\n",
       "      <td>5088.565168</td>\n",
       "    </tr>\n",
       "    <tr>\n",
       "      <th>345</th>\n",
       "      <td>2020-10-01</td>\n",
       "      <td>5236.710051</td>\n",
       "      <td>5012.569076</td>\n",
       "      <td>5353.221040</td>\n",
       "      <td>5223.083766</td>\n",
       "      <td>5251.227632</td>\n",
       "      <td>-43.280888</td>\n",
       "      <td>-43.280888</td>\n",
       "      <td>-43.280888</td>\n",
       "      <td>-43.280888</td>\n",
       "      <td>-43.280888</td>\n",
       "      <td>-43.280888</td>\n",
       "      <td>0.0</td>\n",
       "      <td>0.0</td>\n",
       "      <td>0.0</td>\n",
       "      <td>5193.429163</td>\n",
       "    </tr>\n",
       "    <tr>\n",
       "      <th>346</th>\n",
       "      <td>2020-11-01</td>\n",
       "      <td>5252.865458</td>\n",
       "      <td>5174.203054</td>\n",
       "      <td>5508.459023</td>\n",
       "      <td>5238.349825</td>\n",
       "      <td>5268.442414</td>\n",
       "      <td>87.236362</td>\n",
       "      <td>87.236362</td>\n",
       "      <td>87.236362</td>\n",
       "      <td>87.236362</td>\n",
       "      <td>87.236362</td>\n",
       "      <td>87.236362</td>\n",
       "      <td>0.0</td>\n",
       "      <td>0.0</td>\n",
       "      <td>0.0</td>\n",
       "      <td>5340.101820</td>\n",
       "    </tr>\n",
       "    <tr>\n",
       "      <th>347</th>\n",
       "      <td>2020-12-01</td>\n",
       "      <td>5268.499722</td>\n",
       "      <td>6182.653786</td>\n",
       "      <td>6505.909068</td>\n",
       "      <td>5252.605820</td>\n",
       "      <td>5285.392586</td>\n",
       "      <td>1071.594904</td>\n",
       "      <td>1071.594904</td>\n",
       "      <td>1071.594904</td>\n",
       "      <td>1071.594904</td>\n",
       "      <td>1071.594904</td>\n",
       "      <td>1071.594904</td>\n",
       "      <td>0.0</td>\n",
       "      <td>0.0</td>\n",
       "      <td>0.0</td>\n",
       "      <td>6340.094626</td>\n",
       "    </tr>\n",
       "  </tbody>\n",
       "</table>\n",
       "</div>"
      ],
      "text/plain": [
       "            ds        trend   yhat_lower   yhat_upper  trend_lower  \\\n",
       "343 2020-08-01  5204.920380  5078.922469  5393.627570  5193.298316   \n",
       "344 2020-09-01  5221.075787  4932.467403  5267.605416  5208.520773   \n",
       "345 2020-10-01  5236.710051  5012.569076  5353.221040  5223.083766   \n",
       "346 2020-11-01  5252.865458  5174.203054  5508.459023  5238.349825   \n",
       "347 2020-12-01  5268.499722  6182.653786  6505.909068  5252.605820   \n",
       "\n",
       "     trend_upper  additive_terms  additive_terms_lower  additive_terms_upper  \\\n",
       "343  5217.345944       40.765082             40.765082             40.765082   \n",
       "344  5234.493750     -132.510619           -132.510619           -132.510619   \n",
       "345  5251.227632      -43.280888            -43.280888            -43.280888   \n",
       "346  5268.442414       87.236362             87.236362             87.236362   \n",
       "347  5285.392586     1071.594904           1071.594904           1071.594904   \n",
       "\n",
       "          yearly  yearly_lower  yearly_upper  multiplicative_terms  \\\n",
       "343    40.765082     40.765082     40.765082                   0.0   \n",
       "344  -132.510619   -132.510619   -132.510619                   0.0   \n",
       "345   -43.280888    -43.280888    -43.280888                   0.0   \n",
       "346    87.236362     87.236362     87.236362                   0.0   \n",
       "347  1071.594904   1071.594904   1071.594904                   0.0   \n",
       "\n",
       "     multiplicative_terms_lower  multiplicative_terms_upper         yhat  \n",
       "343                         0.0                         0.0  5245.685462  \n",
       "344                         0.0                         0.0  5088.565168  \n",
       "345                         0.0                         0.0  5193.429163  \n",
       "346                         0.0                         0.0  5340.101820  \n",
       "347                         0.0                         0.0  6340.094626  "
      ]
     },
     "execution_count": 18,
     "metadata": {},
     "output_type": "execute_result"
    }
   ],
   "source": [
    "forecast.tail()"
   ]
  },
  {
   "cell_type": "code",
   "execution_count": 19,
   "metadata": {},
   "outputs": [
    {
     "data": {
      "text/plain": [
       "Index(['ds', 'trend', 'yhat_lower', 'yhat_upper', 'trend_lower', 'trend_upper',\n",
       "       'additive_terms', 'additive_terms_lower', 'additive_terms_upper',\n",
       "       'yearly', 'yearly_lower', 'yearly_upper', 'multiplicative_terms',\n",
       "       'multiplicative_terms_lower', 'multiplicative_terms_upper', 'yhat'],\n",
       "      dtype='object')"
      ]
     },
     "execution_count": 19,
     "metadata": {},
     "output_type": "execute_result"
    }
   ],
   "source": [
    "forecast.columns"
   ]
  },
  {
   "cell_type": "code",
   "execution_count": 20,
   "metadata": {},
   "outputs": [
    {
     "data": {
      "text/html": [
       "<div>\n",
       "<style scoped>\n",
       "    .dataframe tbody tr th:only-of-type {\n",
       "        vertical-align: middle;\n",
       "    }\n",
       "\n",
       "    .dataframe tbody tr th {\n",
       "        vertical-align: top;\n",
       "    }\n",
       "\n",
       "    .dataframe thead th {\n",
       "        text-align: right;\n",
       "    }\n",
       "</style>\n",
       "<table border=\"1\" class=\"dataframe\">\n",
       "  <thead>\n",
       "    <tr style=\"text-align: right;\">\n",
       "      <th></th>\n",
       "      <th>ds</th>\n",
       "      <th>yhat</th>\n",
       "      <th>yhat_lower</th>\n",
       "      <th>yhat_upper</th>\n",
       "    </tr>\n",
       "  </thead>\n",
       "  <tbody>\n",
       "    <tr>\n",
       "      <th>324</th>\n",
       "      <td>2019-01-01</td>\n",
       "      <td>4447.251974</td>\n",
       "      <td>4275.313899</td>\n",
       "      <td>4605.712741</td>\n",
       "    </tr>\n",
       "    <tr>\n",
       "      <th>325</th>\n",
       "      <td>2019-02-01</td>\n",
       "      <td>4471.866329</td>\n",
       "      <td>4302.884764</td>\n",
       "      <td>4628.752024</td>\n",
       "    </tr>\n",
       "    <tr>\n",
       "      <th>326</th>\n",
       "      <td>2019-03-01</td>\n",
       "      <td>4714.223428</td>\n",
       "      <td>4549.787294</td>\n",
       "      <td>4868.314428</td>\n",
       "    </tr>\n",
       "    <tr>\n",
       "      <th>327</th>\n",
       "      <td>2019-04-01</td>\n",
       "      <td>4736.460897</td>\n",
       "      <td>4577.553317</td>\n",
       "      <td>4897.859778</td>\n",
       "    </tr>\n",
       "    <tr>\n",
       "      <th>328</th>\n",
       "      <td>2019-05-01</td>\n",
       "      <td>5007.337374</td>\n",
       "      <td>4836.566212</td>\n",
       "      <td>5158.156800</td>\n",
       "    </tr>\n",
       "    <tr>\n",
       "      <th>329</th>\n",
       "      <td>2019-06-01</td>\n",
       "      <td>4997.035530</td>\n",
       "      <td>4843.905248</td>\n",
       "      <td>5162.776095</td>\n",
       "    </tr>\n",
       "    <tr>\n",
       "      <th>330</th>\n",
       "      <td>2019-07-01</td>\n",
       "      <td>5142.952666</td>\n",
       "      <td>4981.562892</td>\n",
       "      <td>5311.034197</td>\n",
       "    </tr>\n",
       "    <tr>\n",
       "      <th>331</th>\n",
       "      <td>2019-08-01</td>\n",
       "      <td>5051.304295</td>\n",
       "      <td>4885.510991</td>\n",
       "      <td>5217.315348</td>\n",
       "    </tr>\n",
       "    <tr>\n",
       "      <th>332</th>\n",
       "      <td>2019-09-01</td>\n",
       "      <td>4911.375738</td>\n",
       "      <td>4751.059227</td>\n",
       "      <td>5075.075056</td>\n",
       "    </tr>\n",
       "    <tr>\n",
       "      <th>333</th>\n",
       "      <td>2019-10-01</td>\n",
       "      <td>4993.782414</td>\n",
       "      <td>4828.171389</td>\n",
       "      <td>5159.585032</td>\n",
       "    </tr>\n",
       "    <tr>\n",
       "      <th>334</th>\n",
       "      <td>2019-11-01</td>\n",
       "      <td>5091.110096</td>\n",
       "      <td>4924.800249</td>\n",
       "      <td>5247.817131</td>\n",
       "    </tr>\n",
       "    <tr>\n",
       "      <th>335</th>\n",
       "      <td>2019-12-01</td>\n",
       "      <td>6198.461718</td>\n",
       "      <td>6049.911486</td>\n",
       "      <td>6352.972303</td>\n",
       "    </tr>\n",
       "    <tr>\n",
       "      <th>336</th>\n",
       "      <td>2020-01-01</td>\n",
       "      <td>4632.015644</td>\n",
       "      <td>4461.959513</td>\n",
       "      <td>4787.233689</td>\n",
       "    </tr>\n",
       "    <tr>\n",
       "      <th>337</th>\n",
       "      <td>2020-02-01</td>\n",
       "      <td>4682.147555</td>\n",
       "      <td>4525.477937</td>\n",
       "      <td>4834.640567</td>\n",
       "    </tr>\n",
       "    <tr>\n",
       "      <th>338</th>\n",
       "      <td>2020-03-01</td>\n",
       "      <td>4945.507893</td>\n",
       "      <td>4800.019015</td>\n",
       "      <td>5098.331428</td>\n",
       "    </tr>\n",
       "    <tr>\n",
       "      <th>339</th>\n",
       "      <td>2020-04-01</td>\n",
       "      <td>4945.249558</td>\n",
       "      <td>4789.607499</td>\n",
       "      <td>5115.510678</td>\n",
       "    </tr>\n",
       "    <tr>\n",
       "      <th>340</th>\n",
       "      <td>2020-05-01</td>\n",
       "      <td>5202.688312</td>\n",
       "      <td>5030.438299</td>\n",
       "      <td>5350.551663</td>\n",
       "    </tr>\n",
       "    <tr>\n",
       "      <th>341</th>\n",
       "      <td>2020-06-01</td>\n",
       "      <td>5183.565324</td>\n",
       "      <td>5017.259435</td>\n",
       "      <td>5337.675364</td>\n",
       "    </tr>\n",
       "    <tr>\n",
       "      <th>342</th>\n",
       "      <td>2020-07-01</td>\n",
       "      <td>5316.228164</td>\n",
       "      <td>5158.903507</td>\n",
       "      <td>5499.310461</td>\n",
       "    </tr>\n",
       "    <tr>\n",
       "      <th>343</th>\n",
       "      <td>2020-08-01</td>\n",
       "      <td>5245.685462</td>\n",
       "      <td>5078.922469</td>\n",
       "      <td>5393.627570</td>\n",
       "    </tr>\n",
       "    <tr>\n",
       "      <th>344</th>\n",
       "      <td>2020-09-01</td>\n",
       "      <td>5088.565168</td>\n",
       "      <td>4932.467403</td>\n",
       "      <td>5267.605416</td>\n",
       "    </tr>\n",
       "    <tr>\n",
       "      <th>345</th>\n",
       "      <td>2020-10-01</td>\n",
       "      <td>5193.429163</td>\n",
       "      <td>5012.569076</td>\n",
       "      <td>5353.221040</td>\n",
       "    </tr>\n",
       "    <tr>\n",
       "      <th>346</th>\n",
       "      <td>2020-11-01</td>\n",
       "      <td>5340.101820</td>\n",
       "      <td>5174.203054</td>\n",
       "      <td>5508.459023</td>\n",
       "    </tr>\n",
       "    <tr>\n",
       "      <th>347</th>\n",
       "      <td>2020-12-01</td>\n",
       "      <td>6340.094626</td>\n",
       "      <td>6182.653786</td>\n",
       "      <td>6505.909068</td>\n",
       "    </tr>\n",
       "  </tbody>\n",
       "</table>\n",
       "</div>"
      ],
      "text/plain": [
       "            ds         yhat   yhat_lower   yhat_upper\n",
       "324 2019-01-01  4447.251974  4275.313899  4605.712741\n",
       "325 2019-02-01  4471.866329  4302.884764  4628.752024\n",
       "326 2019-03-01  4714.223428  4549.787294  4868.314428\n",
       "327 2019-04-01  4736.460897  4577.553317  4897.859778\n",
       "328 2019-05-01  5007.337374  4836.566212  5158.156800\n",
       "329 2019-06-01  4997.035530  4843.905248  5162.776095\n",
       "330 2019-07-01  5142.952666  4981.562892  5311.034197\n",
       "331 2019-08-01  5051.304295  4885.510991  5217.315348\n",
       "332 2019-09-01  4911.375738  4751.059227  5075.075056\n",
       "333 2019-10-01  4993.782414  4828.171389  5159.585032\n",
       "334 2019-11-01  5091.110096  4924.800249  5247.817131\n",
       "335 2019-12-01  6198.461718  6049.911486  6352.972303\n",
       "336 2020-01-01  4632.015644  4461.959513  4787.233689\n",
       "337 2020-02-01  4682.147555  4525.477937  4834.640567\n",
       "338 2020-03-01  4945.507893  4800.019015  5098.331428\n",
       "339 2020-04-01  4945.249558  4789.607499  5115.510678\n",
       "340 2020-05-01  5202.688312  5030.438299  5350.551663\n",
       "341 2020-06-01  5183.565324  5017.259435  5337.675364\n",
       "342 2020-07-01  5316.228164  5158.903507  5499.310461\n",
       "343 2020-08-01  5245.685462  5078.922469  5393.627570\n",
       "344 2020-09-01  5088.565168  4932.467403  5267.605416\n",
       "345 2020-10-01  5193.429163  5012.569076  5353.221040\n",
       "346 2020-11-01  5340.101820  5174.203054  5508.459023\n",
       "347 2020-12-01  6340.094626  6182.653786  6505.909068"
      ]
     },
     "execution_count": 20,
     "metadata": {},
     "output_type": "execute_result"
    }
   ],
   "source": [
    "forecast[['ds', 'yhat', 'yhat_lower', 'yhat_upper']].tail(24)"
   ]
  },
  {
   "cell_type": "markdown",
   "metadata": {},
   "source": [
    "### Plotting Forecast\n",
    "\n",
    "We can use Prophet's own built in plotting tools"
   ]
  },
  {
   "cell_type": "code",
   "execution_count": 21,
   "metadata": {},
   "outputs": [
    {
     "data": {
      "image/png": "[encoded data removed]",
      "text/plain": [
       "<Figure size 720x432 with 1 Axes>"
      ]
     },
     "metadata": {},
     "output_type": "display_data"
    }
   ],
   "source": [
    "m.plot(forecast);"
   ]
  },
  {
   "cell_type": "code",
   "execution_count": 22,
   "metadata": {},
   "outputs": [
    {
     "data": {
      "text/plain": [
       "(735234.0, 738156.0)"
      ]
     },
     "execution_count": 22,
     "metadata": {},
     "output_type": "execute_result"
    },
    {
     "data": {
      "image/png": "[encoded data removed]",
      "text/plain": [
       "<Figure size 720x432 with 1 Axes>"
      ]
     },
     "metadata": {},
     "output_type": "display_data"
    }
   ],
   "source": [
    "import matplotlib.pyplot as plt\n",
    "m.plot(forecast)\n",
    "plt.xlim('2014-01-01','2022-01-01')"
   ]
  },
  {
   "cell_type": "code",
   "execution_count": 23,
   "metadata": {},
   "outputs": [
    {
     "data": {
      "text/plain": [
       "<matplotlib.axes._subplots.AxesSubplot at 0x1c04cde9748>"
      ]
     },
     "execution_count": 23,
     "metadata": {},
     "output_type": "execute_result"
    },
    {
     "data": {
      "image/png": "[encoded data removed]",
      "text/plain": [
       "<Figure size 432x288 with 1 Axes>"
      ]
     },
     "metadata": {
      "needs_background": "light"
     },
     "output_type": "display_data"
    }
   ],
   "source": [
    "forecast.plot(x='ds',y='yhat')"
   ]
  },
  {
   "cell_type": "code",
   "execution_count": 24,
   "metadata": {},
   "outputs": [
    {
     "data": {
      "image/png": "[encoded data removed]",
      "text/plain": [
       "<Figure size 648x432 with 2 Axes>"
      ]
     },
     "metadata": {},
     "output_type": "display_data"
    }
   ],
   "source": [
    "m.plot_components(forecast);\n"
   ]
  },
  {
   "cell_type": "raw",
   "metadata": {},
   "source": [
    "Interesting to notice peak during holiday (November & December) and dip during February."
   ]
  }
 ],
 "metadata": {
  "kernelspec": {
   "display_name": "Python 3",
   "language": "python",
   "name": "python3"
  },
  "language_info": {
   "codemirror_mode": {
    "name": "ipython",
    "version": 3
   },
   "file_extension": ".py",
   "mimetype": "text/x-python",
   "name": "python",
   "nbconvert_exporter": "python",
   "pygments_lexer": "ipython3",
   "version": "3.7.3"
  }
 },
 "nbformat": 4,
 "nbformat_minor": 2
}
