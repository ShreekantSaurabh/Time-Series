{
 "cells": [
  {
   "cell_type": "markdown",
   "metadata": {},
   "source": [
    "# Keras Basics"
   ]
  },
  {
   "cell_type": "code",
   "execution_count": 1,
   "metadata": {},
   "outputs": [
    {
     "name": "stderr",
     "output_type": "stream",
     "text": [
      "Using TensorFlow backend.\n"
     ]
    }
   ],
   "source": [
    "import warnings\n",
    "warnings.filterwarnings(\"ignore\")\n",
    "\n",
    "import keras\n",
    "import matplotlib.pyplot as plt\n",
    "import pandas as pd\n",
    "import numpy as np\n",
    "\n",
    "%matplotlib inline"
   ]
  },
  {
   "cell_type": "markdown",
   "metadata": {},
   "source": [
    "## Simple y=mx+b+noise data"
   ]
  },
  {
   "cell_type": "code",
   "execution_count": 2,
   "metadata": {},
   "outputs": [
    {
     "data": {
      "text/plain": [
       "array([ 0.        ,  0.50505051,  1.01010101,  1.51515152,  2.02020202,\n",
       "        2.52525253,  3.03030303,  3.53535354,  4.04040404,  4.54545455,\n",
       "        5.05050505,  5.55555556,  6.06060606,  6.56565657,  7.07070707,\n",
       "        7.57575758,  8.08080808,  8.58585859,  9.09090909,  9.5959596 ,\n",
       "       10.1010101 , 10.60606061, 11.11111111, 11.61616162, 12.12121212,\n",
       "       12.62626263, 13.13131313, 13.63636364, 14.14141414, 14.64646465,\n",
       "       15.15151515, 15.65656566, 16.16161616, 16.66666667, 17.17171717,\n",
       "       17.67676768, 18.18181818, 18.68686869, 19.19191919, 19.6969697 ,\n",
       "       20.2020202 , 20.70707071, 21.21212121, 21.71717172, 22.22222222,\n",
       "       22.72727273, 23.23232323, 23.73737374, 24.24242424, 24.74747475,\n",
       "       25.25252525, 25.75757576, 26.26262626, 26.76767677, 27.27272727,\n",
       "       27.77777778, 28.28282828, 28.78787879, 29.29292929, 29.7979798 ,\n",
       "       30.3030303 , 30.80808081, 31.31313131, 31.81818182, 32.32323232,\n",
       "       32.82828283, 33.33333333, 33.83838384, 34.34343434, 34.84848485,\n",
       "       35.35353535, 35.85858586, 36.36363636, 36.86868687, 37.37373737,\n",
       "       37.87878788, 38.38383838, 38.88888889, 39.39393939, 39.8989899 ,\n",
       "       40.4040404 , 40.90909091, 41.41414141, 41.91919192, 42.42424242,\n",
       "       42.92929293, 43.43434343, 43.93939394, 44.44444444, 44.94949495,\n",
       "       45.45454545, 45.95959596, 46.46464646, 46.96969697, 47.47474747,\n",
       "       47.97979798, 48.48484848, 48.98989899, 49.49494949, 50.        ])"
      ]
     },
     "execution_count": 2,
     "metadata": {},
     "output_type": "execute_result"
    }
   ],
   "source": [
    "m = 2\n",
    "b = 3\n",
    "x = np.linspace(0,50,100)  # linearly spaced 100 data points between 0 to 50\n",
    "x"
   ]
  },
  {
   "cell_type": "code",
   "execution_count": 3,
   "metadata": {},
   "outputs": [
    {
     "data": {
      "text/plain": [
       "array([ 1.08273994e+01,  2.51253084e+00,  3.63187779e+00,  2.01530302e+00,\n",
       "        2.60447179e+00, -1.27727218e+00, -3.39230793e+00,  2.42386140e+00,\n",
       "       -8.07267298e+00,  2.96048823e+00,  2.11525398e+00, -2.35600213e+00,\n",
       "        7.54781238e-01, -3.03548822e+00, -3.73294887e+00,  3.82022604e+00,\n",
       "        7.63177289e-01,  7.91502930e+00,  1.04238691e+01,  2.73403554e+00,\n",
       "        1.21066179e+00,  6.77489170e+00, -6.82434372e+00, -4.63647766e+00,\n",
       "       -5.39362882e-01,  1.56211137e+00,  6.67618544e-01,  7.38007437e-01,\n",
       "        3.23082366e+00,  2.91838701e-01,  2.55514805e+00,  1.31858520e+00,\n",
       "       -1.98841609e+00, -3.01627880e+00, -3.77362561e+00,  1.93900659e+00,\n",
       "       -4.67093266e-01,  7.60701918e+00,  9.52507835e-01,  7.98660914e+00,\n",
       "       -3.97305400e+00,  7.87198020e-01, -4.54657837e+00,  1.46591842e-03,\n",
       "        4.10393661e+00, -6.26391617e-01, -1.26316576e-01,  2.59930333e+00,\n",
       "        8.61938577e+00, -2.44103542e+00, -3.02130136e+00, -1.38567401e+00,\n",
       "        5.88107085e-01, -1.91779216e+00,  2.23507763e+00,  4.09924111e+00,\n",
       "       -3.70349704e+00,  7.45145655e+00, -4.53526865e+00,  2.44191163e+00,\n",
       "        1.54412125e+00,  8.33607412e+00, -1.50607470e+00,  9.21345374e-01,\n",
       "        2.72483717e+00,  4.14050030e+00, -1.24641926e-01,  7.75972924e+00,\n",
       "       -4.02074767e+00, -2.96715882e+00,  7.48498087e-01, -2.93138059e+00,\n",
       "       -5.53168039e+00,  5.92998198e+00,  3.84583262e+00, -8.56484916e+00,\n",
       "        3.97029381e+00,  4.76896255e+00, -4.18711815e+00,  5.17105831e+00,\n",
       "       -5.87005608e+00, -1.97638143e+00, -6.50138939e-01,  1.94323495e+00,\n",
       "        1.56995524e+00,  8.85962740e-01, -3.42078416e+00,  6.16796163e+00,\n",
       "        2.66527728e+00, -2.15293850e+00, -2.27432544e+00,  5.62935299e+00,\n",
       "        2.56722205e+00, -3.62039961e+00, -1.56462651e+00,  4.11317264e+00,\n",
       "       -7.89042041e+00, -3.46754014e+00,  2.88315040e+00, -4.89232815e+00])"
      ]
     },
     "execution_count": 3,
     "metadata": {},
     "output_type": "execute_result"
    }
   ],
   "source": [
    "# 101 is an arbitrary choice to make sure your random values are same as mine!\n",
    "np.random.seed(101) \n",
    "noise = np.random.normal(loc=0.0,scale=4.0,size=len(x))  #loc is mean and scale is standard deviation\n",
    "noise"
   ]
  },
  {
   "cell_type": "code",
   "execution_count": 4,
   "metadata": {},
   "outputs": [],
   "source": [
    "y = 2*x + b + noise"
   ]
  },
  {
   "cell_type": "code",
   "execution_count": 5,
   "metadata": {},
   "outputs": [
    {
     "data": {
      "image/png": "[encoded data removed]",
      "text/plain": [
       "<Figure size 432x288 with 1 Axes>"
      ]
     },
     "metadata": {},
     "output_type": "display_data"
    }
   ],
   "source": [
    "plt.plot(x,y,'*');"
   ]
  },
  {
   "cell_type": "markdown",
   "metadata": {},
   "source": [
    "## Creating a Neural Network for a Line of Best Fit"
   ]
  },
  {
   "cell_type": "code",
   "execution_count": 6,
   "metadata": {},
   "outputs": [],
   "source": [
    "from keras.models import Sequential   #allows to add bunch of neural network layers in sequence\n",
    "from keras.layers import Dense       #neurons from previous layer connected to next and so on as dense layer"
   ]
  },
  {
   "cell_type": "code",
   "execution_count": 7,
   "metadata": {},
   "outputs": [],
   "source": [
    "model = Sequential()\n",
    "# 4 output Neurons in first layer, expecting only 1 feature with input_dim=1\n",
    "model.add(Dense(4, input_dim=1, activation='relu'))\n",
    "# 4 Neurons (Play around with this number!)\n",
    "model.add(Dense(4, activation='relu'))\n",
    "# One final output of y, so only 1 neuron as output at last layer\n",
    "model.add(Dense(1, activation='linear'))\n",
    "# Compile the layers\n",
    "model.compile(loss='mse', optimizer='adam')"
   ]
  },
  {
   "cell_type": "code",
   "execution_count": 8,
   "metadata": {},
   "outputs": [
    {
     "name": "stdout",
     "output_type": "stream",
     "text": [
      "_________________________________________________________________\n",
      "Layer (type)                 Output Shape              Param #   \n",
      "=================================================================\n",
      "dense_1 (Dense)              (None, 4)                 8         \n",
      "_________________________________________________________________\n",
      "dense_2 (Dense)              (None, 4)                 20        \n",
      "_________________________________________________________________\n",
      "dense_3 (Dense)              (None, 1)                 5         \n",
      "=================================================================\n",
      "Total params: 33\n",
      "Trainable params: 33\n",
      "Non-trainable params: 0\n",
      "_________________________________________________________________\n"
     ]
    }
   ],
   "source": [
    "model.summary()"
   ]
  },
  {
   "cell_type": "markdown",
   "metadata": {},
   "source": [
    "## Train on Data\n",
    "\n",
    "** NOTE: FOR THIS SIMPLE EXAMPLE, I WILL SKIP THE TRAIN TEST SPLIT!!!! **"
   ]
  },
  {
   "cell_type": "code",
   "execution_count": 9,
   "metadata": {},
   "outputs": [
    {
     "name": "stdout",
     "output_type": "stream",
     "text": [
      "Epoch 1/200\n",
      "100/100 [==============================] - 1s 6ms/step - loss: 3628.1379\n",
      "Epoch 2/200\n",
      "100/100 [==============================] - 0s 79us/step - loss: 3620.4816\n",
      "Epoch 3/200\n",
      "100/100 [==============================] - 0s 81us/step - loss: 3612.4745\n",
      "Epoch 4/200\n",
      "100/100 [==============================] - 0s 84us/step - loss: 3604.3129\n",
      "Epoch 5/200\n",
      "100/100 [==============================] - 0s 85us/step - loss: 3596.3840\n",
      "Epoch 6/200\n",
      "100/100 [==============================] - 0s 82us/step - loss: 3587.4665\n",
      "Epoch 7/200\n",
      "100/100 [==============================] - 0s 78us/step - loss: 3578.6162\n",
      "Epoch 8/200\n",
      "100/100 [==============================] - 0s 85us/step - loss: 3569.8098\n",
      "Epoch 9/200\n",
      "100/100 [==============================] - 0s 88us/step - loss: 3560.6288\n",
      "Epoch 10/200\n",
      "100/100 [==============================] - 0s 82us/step - loss: 3550.9432\n",
      "Epoch 11/200\n",
      "100/100 [==============================] - 0s 78us/step - loss: 3541.3758\n",
      "Epoch 12/200\n",
      "100/100 [==============================] - 0s 76us/step - loss: 3530.7437\n",
      "Epoch 13/200\n",
      "100/100 [==============================] - 0s 78us/step - loss: 3520.0928\n",
      "Epoch 14/200\n",
      "100/100 [==============================] - 0s 77us/step - loss: 3510.0146\n",
      "Epoch 15/200\n",
      "100/100 [==============================] - 0s 79us/step - loss: 3499.4843\n",
      "Epoch 16/200\n",
      "100/100 [==============================] - 0s 76us/step - loss: 3487.9461\n",
      "Epoch 17/200\n",
      "100/100 [==============================] - 0s 77us/step - loss: 3476.8884\n",
      "Epoch 18/200\n",
      "100/100 [==============================] - 0s 77us/step - loss: 3465.2064\n",
      "Epoch 19/200\n",
      "100/100 [==============================] - 0s 89us/step - loss: 3452.6135\n",
      "Epoch 20/200\n",
      "100/100 [==============================] - 0s 89us/step - loss: 3439.4764\n",
      "Epoch 21/200\n",
      "100/100 [==============================] - 0s 89us/step - loss: 3427.1474\n",
      "Epoch 22/200\n",
      "100/100 [==============================] - 0s 86us/step - loss: 3412.7458\n",
      "Epoch 23/200\n",
      "100/100 [==============================] - 0s 115us/step - loss: 3398.3673\n",
      "Epoch 24/200\n",
      "100/100 [==============================] - 0s 104us/step - loss: 3384.2542\n",
      "Epoch 25/200\n",
      "100/100 [==============================] - 0s 92us/step - loss: 3369.3102\n",
      "Epoch 26/200\n",
      "100/100 [==============================] - 0s 127us/step - loss: 3354.1370\n",
      "Epoch 27/200\n",
      "100/100 [==============================] - 0s 115us/step - loss: 3338.8171\n",
      "Epoch 28/200\n",
      "100/100 [==============================] - 0s 122us/step - loss: 3322.7481\n",
      "Epoch 29/200\n",
      "100/100 [==============================] - 0s 69us/step - loss: 3305.9290\n",
      "Epoch 30/200\n",
      "100/100 [==============================] - 0s 113us/step - loss: 3290.0987\n",
      "Epoch 31/200\n",
      "100/100 [==============================] - 0s 75us/step - loss: 3273.1610\n",
      "Epoch 32/200\n",
      "100/100 [==============================] - 0s 118us/step - loss: 3255.7971\n",
      "Epoch 33/200\n",
      "100/100 [==============================] - 0s 108us/step - loss: 3237.7113\n",
      "Epoch 34/200\n",
      "100/100 [==============================] - 0s 77us/step - loss: 3220.6771\n",
      "Epoch 35/200\n",
      "100/100 [==============================] - 0s 71us/step - loss: 3202.4069\n",
      "Epoch 36/200\n",
      "100/100 [==============================] - 0s 101us/step - loss: 3183.7597\n",
      "Epoch 37/200\n",
      "100/100 [==============================] - 0s 105us/step - loss: 3165.4219\n",
      "Epoch 38/200\n",
      "100/100 [==============================] - 0s 68us/step - loss: 3145.8496\n",
      "Epoch 39/200\n",
      "100/100 [==============================] - 0s 166us/step - loss: 3126.9234\n",
      "Epoch 40/200\n",
      "100/100 [==============================] - 0s 78us/step - loss: 3107.8183\n",
      "Epoch 41/200\n",
      "100/100 [==============================] - 0s 120us/step - loss: 3086.7985\n",
      "Epoch 42/200\n",
      "100/100 [==============================] - 0s 95us/step - loss: 3065.0423\n",
      "Epoch 43/200\n",
      "100/100 [==============================] - 0s 120us/step - loss: 3044.3987\n",
      "Epoch 44/200\n",
      "100/100 [==============================] - 0s 81us/step - loss: 3022.0886\n",
      "Epoch 45/200\n",
      "100/100 [==============================] - 0s 84us/step - loss: 3000.6488\n",
      "Epoch 46/200\n",
      "100/100 [==============================] - 0s 100us/step - loss: 2976.5074\n",
      "Epoch 47/200\n",
      "100/100 [==============================] - 0s 108us/step - loss: 2954.9438\n",
      "Epoch 48/200\n",
      "100/100 [==============================] - 0s 110us/step - loss: 2931.9580\n",
      "Epoch 49/200\n",
      "100/100 [==============================] - 0s 129us/step - loss: 2909.2000\n",
      "Epoch 50/200\n",
      "100/100 [==============================] - 0s 134us/step - loss: 2885.3268\n",
      "Epoch 51/200\n",
      "100/100 [==============================] - 0s 85us/step - loss: 2861.8248\n",
      "Epoch 52/200\n",
      "100/100 [==============================] - 0s 105us/step - loss: 2836.6502\n",
      "Epoch 53/200\n",
      "100/100 [==============================] - 0s 98us/step - loss: 2811.5214\n",
      "Epoch 54/200\n",
      "100/100 [==============================] - 0s 70us/step - loss: 2786.4485\n",
      "Epoch 55/200\n",
      "100/100 [==============================] - 0s 88us/step - loss: 2759.4674\n",
      "Epoch 56/200\n",
      "100/100 [==============================] - 0s 112us/step - loss: 2733.3791\n",
      "Epoch 57/200\n",
      "100/100 [==============================] - 0s 135us/step - loss: 2707.7766\n",
      "Epoch 58/200\n",
      "100/100 [==============================] - 0s 87us/step - loss: 2679.1406\n",
      "Epoch 59/200\n",
      "100/100 [==============================] - 0s 134us/step - loss: 2652.7174\n",
      "Epoch 60/200\n",
      "100/100 [==============================] - 0s 90us/step - loss: 2623.5775\n",
      "Epoch 61/200\n",
      "100/100 [==============================] - 0s 65us/step - loss: 2595.4345\n",
      "Epoch 62/200\n",
      "100/100 [==============================] - 0s 127us/step - loss: 2567.1147\n",
      "Epoch 63/200\n",
      "100/100 [==============================] - 0s 90us/step - loss: 2540.1304\n",
      "Epoch 64/200\n",
      "100/100 [==============================] - 0s 144us/step - loss: 2511.1332\n",
      "Epoch 65/200\n",
      "100/100 [==============================] - 0s 76us/step - loss: 2482.4390\n",
      "Epoch 66/200\n",
      "100/100 [==============================] - 0s 124us/step - loss: 2452.8324\n",
      "Epoch 67/200\n",
      "100/100 [==============================] - 0s 65us/step - loss: 2423.7049\n",
      "Epoch 68/200\n",
      "100/100 [==============================] - 0s 139us/step - loss: 2394.5986\n",
      "Epoch 69/200\n",
      "100/100 [==============================] - 0s 83us/step - loss: 2364.6971\n",
      "Epoch 70/200\n",
      "100/100 [==============================] - 0s 119us/step - loss: 2334.7057\n",
      "Epoch 71/200\n",
      "100/100 [==============================] - 0s 81us/step - loss: 2304.3402\n",
      "Epoch 72/200\n",
      "100/100 [==============================] - 0s 113us/step - loss: 2272.2906\n",
      "Epoch 73/200\n",
      "100/100 [==============================] - 0s 112us/step - loss: 2239.0555\n",
      "Epoch 74/200\n",
      "100/100 [==============================] - 0s 67us/step - loss: 2205.9244\n",
      "Epoch 75/200\n",
      "100/100 [==============================] - 0s 72us/step - loss: 2172.2830\n",
      "Epoch 76/200\n",
      "100/100 [==============================] - 0s 145us/step - loss: 2138.8673\n",
      "Epoch 77/200\n",
      "100/100 [==============================] - 0s 77us/step - loss: 2108.3846\n",
      "Epoch 78/200\n",
      "100/100 [==============================] - 0s 109us/step - loss: 2074.7910\n",
      "Epoch 79/200\n",
      "100/100 [==============================] - 0s 76us/step - loss: 2043.2132\n",
      "Epoch 80/200\n",
      "100/100 [==============================] - 0s 111us/step - loss: 2010.1695\n",
      "Epoch 81/200\n",
      "100/100 [==============================] - 0s 100us/step - loss: 1978.4819\n",
      "Epoch 82/200\n",
      "100/100 [==============================] - 0s 136us/step - loss: 1943.5868\n",
      "Epoch 83/200\n",
      "100/100 [==============================] - 0s 69us/step - loss: 1909.0345\n",
      "Epoch 84/200\n",
      "100/100 [==============================] - 0s 122us/step - loss: 1873.2911\n",
      "Epoch 85/200\n",
      "100/100 [==============================] - 0s 110us/step - loss: 1839.1638\n",
      "Epoch 86/200\n",
      "100/100 [==============================] - 0s 110us/step - loss: 1804.3479\n",
      "Epoch 87/200\n",
      "100/100 [==============================] - 0s 89us/step - loss: 1769.7019\n",
      "Epoch 88/200\n",
      "100/100 [==============================] - 0s 146us/step - loss: 1737.1341\n",
      "Epoch 89/200\n",
      "100/100 [==============================] - 0s 77us/step - loss: 1702.3838\n",
      "Epoch 90/200\n",
      "100/100 [==============================] - 0s 115us/step - loss: 1669.8768\n",
      "Epoch 91/200\n",
      "100/100 [==============================] - 0s 108us/step - loss: 1635.3687\n",
      "Epoch 92/200\n",
      "100/100 [==============================] - 0s 126us/step - loss: 1601.0665\n",
      "Epoch 93/200\n",
      "100/100 [==============================] - 0s 138us/step - loss: 1566.8473\n",
      "Epoch 94/200\n"
     ]
    },
    {
     "name": "stdout",
     "output_type": "stream",
     "text": [
      "100/100 [==============================] - 0s 78us/step - loss: 1533.2130\n",
      "Epoch 95/200\n",
      "100/100 [==============================] - 0s 125us/step - loss: 1501.1311\n",
      "Epoch 96/200\n",
      "100/100 [==============================] - 0s 111us/step - loss: 1466.7497\n",
      "Epoch 97/200\n",
      "100/100 [==============================] - 0s 128us/step - loss: 1434.7622\n",
      "Epoch 98/200\n",
      "100/100 [==============================] - 0s 112us/step - loss: 1403.0251\n",
      "Epoch 99/200\n",
      "100/100 [==============================] - 0s 146us/step - loss: 1370.6524\n",
      "Epoch 100/200\n",
      "100/100 [==============================] - 0s 73us/step - loss: 1337.3521\n",
      "Epoch 101/200\n",
      "100/100 [==============================] - 0s 126us/step - loss: 1304.6556\n",
      "Epoch 102/200\n",
      "100/100 [==============================] - 0s 76us/step - loss: 1273.8065\n",
      "Epoch 103/200\n",
      "100/100 [==============================] - 0s 161us/step - loss: 1241.3429\n",
      "Epoch 104/200\n",
      "100/100 [==============================] - 0s 71us/step - loss: 1210.3265\n",
      "Epoch 105/200\n",
      "100/100 [==============================] - 0s 117us/step - loss: 1178.1894\n",
      "Epoch 106/200\n",
      "100/100 [==============================] - 0s 118us/step - loss: 1147.8319\n",
      "Epoch 107/200\n",
      "100/100 [==============================] - 0s 83us/step - loss: 1118.6202\n",
      "Epoch 108/200\n",
      "100/100 [==============================] - 0s 159us/step - loss: 1089.0187\n",
      "Epoch 109/200\n",
      "100/100 [==============================] - 0s 69us/step - loss: 1061.9034\n",
      "Epoch 110/200\n",
      "100/100 [==============================] - 0s 127us/step - loss: 1033.0134\n",
      "Epoch 111/200\n",
      "100/100 [==============================] - 0s 70us/step - loss: 1004.1071\n",
      "Epoch 112/200\n",
      "100/100 [==============================] - 0s 136us/step - loss: 976.5686\n",
      "Epoch 113/200\n",
      "100/100 [==============================] - 0s 114us/step - loss: 947.3051\n",
      "Epoch 114/200\n",
      "100/100 [==============================] - 0s 73us/step - loss: 919.2343\n",
      "Epoch 115/200\n",
      "100/100 [==============================] - 0s 107us/step - loss: 891.7780\n",
      "Epoch 116/200\n",
      "100/100 [==============================] - 0s 127us/step - loss: 862.8333\n",
      "Epoch 117/200\n",
      "100/100 [==============================] - 0s 141us/step - loss: 835.0258\n",
      "Epoch 118/200\n",
      "100/100 [==============================] - 0s 87us/step - loss: 807.8999\n",
      "Epoch 119/200\n",
      "100/100 [==============================] - 0s 137us/step - loss: 781.7232\n",
      "Epoch 120/200\n",
      "100/100 [==============================] - 0s 85us/step - loss: 753.9285\n",
      "Epoch 121/200\n",
      "100/100 [==============================] - 0s 99us/step - loss: 726.2055\n",
      "Epoch 122/200\n",
      "100/100 [==============================] - 0s 115us/step - loss: 698.4194\n",
      "Epoch 123/200\n",
      "100/100 [==============================] - 0s 71us/step - loss: 672.6944\n",
      "Epoch 124/200\n",
      "100/100 [==============================] - 0s 156us/step - loss: 647.0658\n",
      "Epoch 125/200\n",
      "100/100 [==============================] - 0s 84us/step - loss: 622.2589\n",
      "Epoch 126/200\n",
      "100/100 [==============================] - 0s 123us/step - loss: 596.7299\n",
      "Epoch 127/200\n",
      "100/100 [==============================] - 0s 93us/step - loss: 572.2074\n",
      "Epoch 128/200\n",
      "100/100 [==============================] - 0s 115us/step - loss: 549.1323\n",
      "Epoch 129/200\n",
      "100/100 [==============================] - 0s 123us/step - loss: 526.8526\n",
      "Epoch 130/200\n",
      "100/100 [==============================] - 0s 81us/step - loss: 505.3772\n",
      "Epoch 131/200\n",
      "100/100 [==============================] - 0s 77us/step - loss: 485.3754\n",
      "Epoch 132/200\n",
      "100/100 [==============================] - 0s 73us/step - loss: 466.2286\n",
      "Epoch 133/200\n",
      "100/100 [==============================] - 0s 99us/step - loss: 446.6313\n",
      "Epoch 134/200\n",
      "100/100 [==============================] - 0s 131us/step - loss: 427.8480\n",
      "Epoch 135/200\n",
      "100/100 [==============================] - 0s 72us/step - loss: 409.1378\n",
      "Epoch 136/200\n",
      "100/100 [==============================] - 0s 124us/step - loss: 391.4270\n",
      "Epoch 137/200\n",
      "100/100 [==============================] - 0s 68us/step - loss: 374.3147\n",
      "Epoch 138/200\n",
      "100/100 [==============================] - 0s 82us/step - loss: 356.7032\n",
      "Epoch 139/200\n",
      "100/100 [==============================] - 0s 147us/step - loss: 340.5485\n",
      "Epoch 140/200\n",
      "100/100 [==============================] - 0s 67us/step - loss: 325.4756\n",
      "Epoch 141/200\n",
      "100/100 [==============================] - 0s 140us/step - loss: 311.8151\n",
      "Epoch 142/200\n",
      "100/100 [==============================] - 0s 89us/step - loss: 298.3683\n",
      "Epoch 143/200\n",
      "100/100 [==============================] - ETA: 0s - loss: 322.783 - 0s 68us/step - loss: 285.7074\n",
      "Epoch 144/200\n",
      "100/100 [==============================] - 0s 82us/step - loss: 272.9016\n",
      "Epoch 145/200\n",
      "100/100 [==============================] - 0s 95us/step - loss: 261.6193\n",
      "Epoch 146/200\n",
      "100/100 [==============================] - 0s 132us/step - loss: 249.7491\n",
      "Epoch 147/200\n",
      "100/100 [==============================] - 0s 77us/step - loss: 237.5719\n",
      "Epoch 148/200\n",
      "100/100 [==============================] - 0s 125us/step - loss: 225.7114\n",
      "Epoch 149/200\n",
      "100/100 [==============================] - 0s 83us/step - loss: 214.7253\n",
      "Epoch 150/200\n",
      "100/100 [==============================] - 0s 148us/step - loss: 203.7904\n",
      "Epoch 151/200\n",
      "100/100 [==============================] - 0s 64us/step - loss: 193.1255\n",
      "Epoch 152/200\n",
      "100/100 [==============================] - 0s 135us/step - loss: 182.9265\n",
      "Epoch 153/200\n",
      "100/100 [==============================] - 0s 69us/step - loss: 173.8550\n",
      "Epoch 154/200\n",
      "100/100 [==============================] - 0s 147us/step - loss: 165.6540\n",
      "Epoch 155/200\n",
      "100/100 [==============================] - 0s 70us/step - loss: 157.4609\n",
      "Epoch 156/200\n",
      "100/100 [==============================] - 0s 77us/step - loss: 149.8628\n",
      "Epoch 157/200\n",
      "100/100 [==============================] - 0s 118us/step - loss: 142.4097\n",
      "Epoch 158/200\n",
      "100/100 [==============================] - 0s 124us/step - loss: 135.7643\n",
      "Epoch 159/200\n",
      "100/100 [==============================] - 0s 73us/step - loss: 129.2569\n",
      "Epoch 160/200\n",
      "100/100 [==============================] - 0s 78us/step - loss: 122.9218\n",
      "Epoch 161/200\n",
      "100/100 [==============================] - 0s 79us/step - loss: 116.3745\n",
      "Epoch 162/200\n",
      "100/100 [==============================] - 0s 99us/step - loss: 110.2964\n",
      "Epoch 163/200\n",
      "100/100 [==============================] - 0s 111us/step - loss: 104.5539\n",
      "Epoch 164/200\n",
      "100/100 [==============================] - 0s 99us/step - loss: 98.8860\n",
      "Epoch 165/200\n",
      "100/100 [==============================] - 0s 136us/step - loss: 93.5309\n",
      "Epoch 166/200\n",
      "100/100 [==============================] - 0s 90us/step - loss: 88.8637\n",
      "Epoch 167/200\n",
      "100/100 [==============================] - 0s 103us/step - loss: 84.0920\n",
      "Epoch 168/200\n",
      "100/100 [==============================] - 0s 88us/step - loss: 79.6513\n",
      "Epoch 169/200\n",
      "100/100 [==============================] - 0s 99us/step - loss: 75.3490\n",
      "Epoch 170/200\n",
      "100/100 [==============================] - 0s 81us/step - loss: 71.2869\n",
      "Epoch 171/200\n",
      "100/100 [==============================] - 0s 143us/step - loss: 67.4898\n",
      "Epoch 172/200\n",
      "100/100 [==============================] - 0s 75us/step - loss: 64.0522\n",
      "Epoch 173/200\n",
      "100/100 [==============================] - 0s 113us/step - loss: 60.5106\n",
      "Epoch 174/200\n",
      "100/100 [==============================] - 0s 120us/step - loss: 57.3993\n",
      "Epoch 175/200\n",
      "100/100 [==============================] - 0s 163us/step - loss: 54.3458\n",
      "Epoch 176/200\n",
      "100/100 [==============================] - 0s 87us/step - loss: 51.5091\n",
      "Epoch 177/200\n",
      "100/100 [==============================] - 0s 132us/step - loss: 48.8353\n",
      "Epoch 178/200\n",
      "100/100 [==============================] - 0s 76us/step - loss: 46.5518\n",
      "Epoch 179/200\n",
      "100/100 [==============================] - 0s 108us/step - loss: 44.3407\n",
      "Epoch 180/200\n",
      "100/100 [==============================] - 0s 155us/step - loss: 42.4454\n",
      "Epoch 181/200\n",
      "100/100 [==============================] - 0s 74us/step - loss: 40.5021\n",
      "Epoch 182/200\n",
      "100/100 [==============================] - 0s 117us/step - loss: 38.7276\n",
      "Epoch 183/200\n",
      "100/100 [==============================] - 0s 120us/step - loss: 37.0880\n",
      "Epoch 184/200\n",
      "100/100 [==============================] - 0s 85us/step - loss: 35.5848\n",
      "Epoch 185/200\n",
      "100/100 [==============================] - 0s 75us/step - loss: 34.1383\n",
      "Epoch 186/200\n",
      "100/100 [==============================] - 0s 100us/step - loss: 32.8961\n",
      "Epoch 187/200\n"
     ]
    },
    {
     "name": "stdout",
     "output_type": "stream",
     "text": [
      "100/100 [==============================] - 0s 138us/step - loss: 31.7580\n",
      "Epoch 188/200\n",
      "100/100 [==============================] - 0s 80us/step - loss: 30.7126\n",
      "Epoch 189/200\n",
      "100/100 [==============================] - 0s 77us/step - loss: 29.7450\n",
      "Epoch 190/200\n",
      "100/100 [==============================] - 0s 108us/step - loss: 28.7997\n",
      "Epoch 191/200\n",
      "100/100 [==============================] - 0s 92us/step - loss: 27.9480\n",
      "Epoch 192/200\n",
      "100/100 [==============================] - 0s 123us/step - loss: 27.1404\n",
      "Epoch 193/200\n",
      "100/100 [==============================] - 0s 93us/step - loss: 26.3141\n",
      "Epoch 194/200\n",
      "100/100 [==============================] - 0s 148us/step - loss: 25.5605\n",
      "Epoch 195/200\n",
      "100/100 [==============================] - 0s 128us/step - loss: 24.8686\n",
      "Epoch 196/200\n",
      "100/100 [==============================] - 0s 89us/step - loss: 24.2631\n",
      "Epoch 197/200\n",
      "100/100 [==============================] - 0s 116us/step - loss: 23.7147\n",
      "Epoch 198/200\n",
      "100/100 [==============================] - 0s 127us/step - loss: 23.2025\n",
      "Epoch 199/200\n",
      "100/100 [==============================] - 0s 132us/step - loss: 22.7870\n",
      "Epoch 200/200\n",
      "100/100 [==============================] - 0s 75us/step - loss: 22.4095\n"
     ]
    },
    {
     "data": {
      "text/plain": [
       "<keras.callbacks.History at 0x7f440b5850b8>"
      ]
     },
     "execution_count": 9,
     "metadata": {},
     "output_type": "execute_result"
    }
   ],
   "source": [
    "model.fit(x, y, epochs=200, verbose=1)"
   ]
  },
  {
   "cell_type": "code",
   "execution_count": 10,
   "metadata": {},
   "outputs": [
    {
     "data": {
      "text/plain": [
       "[3628.13794921875,\n",
       " 3620.4816015625,\n",
       " 3612.474462890625,\n",
       " 3604.31287109375,\n",
       " 3596.383955078125,\n",
       " 3587.46646484375,\n",
       " 3578.61623046875,\n",
       " 3569.8098046875,\n",
       " 3560.628828125,\n",
       " 3550.94322265625,\n",
       " 3541.37580078125,\n",
       " 3530.743720703125,\n",
       " 3520.092763671875,\n",
       " 3510.0146484375,\n",
       " 3499.48431640625,\n",
       " 3487.946083984375,\n",
       " 3476.8884375,\n",
       " 3465.2064453125,\n",
       " 3452.6134765625,\n",
       " 3439.47638671875,\n",
       " 3427.147421875,\n",
       " 3412.745810546875,\n",
       " 3398.36732421875,\n",
       " 3384.25416015625,\n",
       " 3369.31021484375,\n",
       " 3354.136953125,\n",
       " 3338.81705078125,\n",
       " 3322.748125,\n",
       " 3305.92904296875,\n",
       " 3290.0987109375,\n",
       " 3273.16099609375,\n",
       " 3255.7970751953126,\n",
       " 3237.71130859375,\n",
       " 3220.677109375,\n",
       " 3202.406943359375,\n",
       " 3183.759716796875,\n",
       " 3165.42189453125,\n",
       " 3145.84962890625,\n",
       " 3126.923359375,\n",
       " 3107.818349609375,\n",
       " 3086.79849609375,\n",
       " 3065.042265625,\n",
       " 3044.398662109375,\n",
       " 3022.08859375,\n",
       " 3000.648779296875,\n",
       " 2976.507412109375,\n",
       " 2954.943779296875,\n",
       " 2931.958037109375,\n",
       " 2909.200029296875,\n",
       " 2885.326826171875,\n",
       " 2861.82478515625,\n",
       " 2836.650205078125,\n",
       " 2811.5213671875,\n",
       " 2786.4485498046874,\n",
       " 2759.467421875,\n",
       " 2733.3791015625,\n",
       " 2707.776552734375,\n",
       " 2679.140625,\n",
       " 2652.71736328125,\n",
       " 2623.5774755859375,\n",
       " 2595.4344970703123,\n",
       " 2567.1146875,\n",
       " 2540.1303515625,\n",
       " 2511.13322265625,\n",
       " 2482.438955078125,\n",
       " 2452.832431640625,\n",
       " 2423.704921875,\n",
       " 2394.5985546875,\n",
       " 2364.697119140625,\n",
       " 2334.705732421875,\n",
       " 2304.340166015625,\n",
       " 2272.2905859375,\n",
       " 2239.055537109375,\n",
       " 2205.924375,\n",
       " 2172.2830224609374,\n",
       " 2138.867275390625,\n",
       " 2108.384639892578,\n",
       " 2074.79103515625,\n",
       " 2043.2131591796874,\n",
       " 2010.169482421875,\n",
       " 1978.481875,\n",
       " 1943.58677734375,\n",
       " 1909.034482421875,\n",
       " 1873.2911328125,\n",
       " 1839.1637890625,\n",
       " 1804.3478759765626,\n",
       " 1769.701923828125,\n",
       " 1737.134140625,\n",
       " 1702.383759765625,\n",
       " 1669.8768310546875,\n",
       " 1635.3687158203124,\n",
       " 1601.06650390625,\n",
       " 1566.847333984375,\n",
       " 1533.2130029296875,\n",
       " 1501.1311206054688,\n",
       " 1466.7496875,\n",
       " 1434.762236328125,\n",
       " 1403.02513671875,\n",
       " 1370.6524072265624,\n",
       " 1337.3520922851562,\n",
       " 1304.655595703125,\n",
       " 1273.806455078125,\n",
       " 1241.342890625,\n",
       " 1210.3264501953124,\n",
       " 1178.1894409179688,\n",
       " 1147.8319067382813,\n",
       " 1118.6202185058594,\n",
       " 1089.0187060546875,\n",
       " 1061.9033837890624,\n",
       " 1033.0134228515626,\n",
       " 1004.1071411132813,\n",
       " 976.5686181640625,\n",
       " 947.3051123046876,\n",
       " 919.2343115234376,\n",
       " 891.7780078125,\n",
       " 862.8333276367188,\n",
       " 835.0257946777343,\n",
       " 807.8999267578125,\n",
       " 781.7232080078124,\n",
       " 753.928486328125,\n",
       " 726.2055395507813,\n",
       " 698.419365234375,\n",
       " 672.6943994140624,\n",
       " 647.0658422851562,\n",
       " 622.258935546875,\n",
       " 596.7299438476563,\n",
       " 572.207353515625,\n",
       " 549.1322631835938,\n",
       " 526.85263671875,\n",
       " 505.37719482421875,\n",
       " 485.3753564453125,\n",
       " 466.228623046875,\n",
       " 446.63134033203124,\n",
       " 427.8479650878906,\n",
       " 409.13777587890627,\n",
       " 391.4269775390625,\n",
       " 374.3146655273438,\n",
       " 356.7032153320313,\n",
       " 340.5485443115234,\n",
       " 325.47564575195315,\n",
       " 311.81511840820315,\n",
       " 298.3682745361328,\n",
       " 285.70738403320314,\n",
       " 272.9016125488281,\n",
       " 261.6193438720703,\n",
       " 249.74913818359374,\n",
       " 237.57194458007814,\n",
       " 225.7114123535156,\n",
       " 214.7252734375,\n",
       " 203.79043823242188,\n",
       " 193.12548645019533,\n",
       " 182.92645294189452,\n",
       " 173.8549774169922,\n",
       " 165.65402099609375,\n",
       " 157.46086975097657,\n",
       " 149.8628158569336,\n",
       " 142.4097462463379,\n",
       " 135.7642820739746,\n",
       " 129.25686279296875,\n",
       " 122.92184936523438,\n",
       " 116.3745330810547,\n",
       " 110.29637145996094,\n",
       " 104.55389099121093,\n",
       " 98.88604705810548,\n",
       " 93.5309341430664,\n",
       " 88.86369201660156,\n",
       " 84.09200744628906,\n",
       " 79.65132110595704,\n",
       " 75.34897003173828,\n",
       " 71.28687622070312,\n",
       " 67.48978637695312,\n",
       " 64.05215576171875,\n",
       " 60.51060729980469,\n",
       " 57.39925659179688,\n",
       " 54.34576782226563,\n",
       " 51.50907432556152,\n",
       " 48.83525268554688,\n",
       " 46.55182518005371,\n",
       " 44.34067276000977,\n",
       " 42.44535514831543,\n",
       " 40.50205902099609,\n",
       " 38.7275772857666,\n",
       " 37.08801895141602,\n",
       " 35.584824295043944,\n",
       " 34.13831554412842,\n",
       " 32.896127471923826,\n",
       " 31.758016662597655,\n",
       " 30.71262130737305,\n",
       " 29.745040740966797,\n",
       " 28.799658966064452,\n",
       " 27.947998046875,\n",
       " 27.140372805595398,\n",
       " 26.31407180786133,\n",
       " 25.560528564453126,\n",
       " 24.8686164855957,\n",
       " 24.26308639526367,\n",
       " 23.71469184875488,\n",
       " 23.202521591186525,\n",
       " 22.7869580078125,\n",
       " 22.40949378967285]"
      ]
     },
     "execution_count": 10,
     "metadata": {},
     "output_type": "execute_result"
    }
   ],
   "source": [
    "model.history.history['loss']"
   ]
  },
  {
   "cell_type": "code",
   "execution_count": 11,
   "metadata": {},
   "outputs": [
    {
     "data": {
      "text/plain": [
       "[<matplotlib.lines.Line2D at 0x7f4408c9cac8>]"
      ]
     },
     "execution_count": 11,
     "metadata": {},
     "output_type": "execute_result"
    },
    {
     "data": {
      "image/png": "[encoded data removed]",
      "text/plain": [
       "<Figure size 432x288 with 1 Axes>"
      ]
     },
     "metadata": {},
     "output_type": "display_data"
    }
   ],
   "source": [
    "loss = model.history.history['loss']\n",
    "epochs = range(len(loss))\n",
    "\n",
    "plt.plot(epochs, loss)"
   ]
  },
  {
   "cell_type": "markdown",
   "metadata": {},
   "source": [
    "## Predicting on new x points\n",
    "\n",
    "Our previous x was 50 linspace points between 0 and 100. Let's predict for 1000 values between 0 and 100, drawing a line for our predictions (our line of best fit)."
   ]
  },
  {
   "cell_type": "code",
   "execution_count": 12,
   "metadata": {},
   "outputs": [],
   "source": [
    "x_for_predictions = np.linspace(0,50,1000)"
   ]
  },
  {
   "cell_type": "code",
   "execution_count": 13,
   "metadata": {},
   "outputs": [],
   "source": [
    "y_predicted = model.predict(x_for_predictions)"
   ]
  },
  {
   "cell_type": "code",
   "execution_count": 14,
   "metadata": {},
   "outputs": [
    {
     "data": {
      "text/plain": [
       "[<matplotlib.lines.Line2D at 0x7f4408d46f28>]"
      ]
     },
     "execution_count": 14,
     "metadata": {},
     "output_type": "execute_result"
    },
    {
     "data": {
      "image/png": "[encoded data removed]",
      "text/plain": [
       "<Figure size 432x288 with 1 Axes>"
      ]
     },
     "metadata": {},
     "output_type": "display_data"
    }
   ],
   "source": [
    "# Original X and Y\n",
    "plt.plot(x,y,'*')\n",
    "# Our Model's prediction Line\n",
    "plt.plot(x_for_predictions,y_predicted,'r')   #r for red line"
   ]
  },
  {
   "cell_type": "markdown",
   "metadata": {},
   "source": [
    "# Evaluating Our Error"
   ]
  },
  {
   "cell_type": "code",
   "execution_count": 15,
   "metadata": {},
   "outputs": [],
   "source": [
    "from sklearn.metrics import mean_squared_error,mean_absolute_error"
   ]
  },
  {
   "cell_type": "code",
   "execution_count": 16,
   "metadata": {},
   "outputs": [],
   "source": [
    "# Labels we do know\n",
    "prediction_for_true_y = model.predict(x)"
   ]
  },
  {
   "cell_type": "code",
   "execution_count": 17,
   "metadata": {},
   "outputs": [
    {
     "data": {
      "text/plain": [
       "22.11603736275938"
      ]
     },
     "execution_count": 17,
     "metadata": {},
     "output_type": "execute_result"
    }
   ],
   "source": [
    "mean_squared_error(y,prediction_for_true_y)"
   ]
  },
  {
   "cell_type": "code",
   "execution_count": 18,
   "metadata": {},
   "outputs": [
    {
     "data": {
      "text/plain": [
       "3.778922738732998"
      ]
     },
     "execution_count": 18,
     "metadata": {},
     "output_type": "execute_result"
    }
   ],
   "source": [
    "mean_absolute_error(y,prediction_for_true_y)"
   ]
  },
  {
   "cell_type": "markdown",
   "metadata": {},
   "source": [
    " Notice how MSE value was being reported out by Keras during training!"
   ]
  }
 ],
 "metadata": {
  "kernelspec": {
   "display_name": "Python 3",
   "language": "python",
   "name": "python3"
  },
  "language_info": {
   "codemirror_mode": {
    "name": "ipython",
    "version": 3
   },
   "file_extension": ".py",
   "mimetype": "text/x-python",
   "name": "python",
   "nbconvert_exporter": "python",
   "pygments_lexer": "ipython3",
   "version": "3.6.3"
  }
 },
 "nbformat": 4,
 "nbformat_minor": 2
}
